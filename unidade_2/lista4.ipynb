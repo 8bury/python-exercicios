{
 "cells": [
  {
   "cell_type": "code",
   "execution_count": 4,
   "metadata": {},
   "outputs": [
    {
     "name": "stdout",
     "output_type": "stream",
     "text": [
      "[1, 2, 3, 4, 5]\n"
     ]
    }
   ],
   "source": [
    "#1\n",
    "lista = []\n",
    "for i in range(5):\n",
    "    item = int(input())\n",
    "    lista.append(item)\n",
    "print(lista)"
   ]
  },
  {
   "cell_type": "code",
   "execution_count": 5,
   "metadata": {},
   "outputs": [
    {
     "name": "stdout",
     "output_type": "stream",
     "text": [
      "[10.0, 9.0, 8.0, 7.0, 6.0, 5.0, 4.0, 3.0, 2.0, 1.0]\n"
     ]
    }
   ],
   "source": [
    "#2\n",
    "lista = []\n",
    "for i in range(10):\n",
    "    item = float(input())\n",
    "    lista.append(item)\n",
    "lista.reverse()\n",
    "print(lista)"
   ]
  },
  {
   "cell_type": "code",
   "execution_count": 10,
   "metadata": {},
   "outputs": [
    {
     "name": "stdout",
     "output_type": "stream",
     "text": [
      "A média é: 9.0\n",
      "As notas são: [10.0, 8.0, 10.0, 8.0]\n"
     ]
    }
   ],
   "source": [
    "#3\n",
    "notas = []\n",
    "for i in range(4):\n",
    "    nota = float(input())\n",
    "    notas.append(nota)\n",
    "media = sum(notas)/len(notas)\n",
    "print(f'A média é: {media}')\n",
    "print(f'As notas são: {notas}')\n",
    "#for nota in notas:\n",
    "#   print(nota)"
   ]
  },
  {
   "cell_type": "code",
   "execution_count": 2,
   "metadata": {},
   "outputs": [
    {
     "name": "stdout",
     "output_type": "stream",
     "text": [
      "Os números são: [2, 3, 5]\n",
      "Os pares são: [2]\n",
      "Os ímpares são: [3, 5]\n"
     ]
    }
   ],
   "source": [
    "#4\n",
    "numeros = []\n",
    "par = []\n",
    "impar = []\n",
    "for i in range(3):\n",
    "    numero = int(input())\n",
    "    numeros.append(numero)\n",
    "    if numero % 2 == 0:\n",
    "        par.append(numero)\n",
    "    else:\n",
    "        impar.append(numero)\n",
    "print(f'Os números são: {numeros}')\n",
    "print(f'Os pares são: {par}')\n",
    "print(f'Os ímpares são: {impar}')\n"
   ]
  },
  {
   "cell_type": "code",
   "execution_count": 3,
   "metadata": {},
   "outputs": [
    {
     "name": "stdout",
     "output_type": "stream",
     "text": [
      "reprovado\n",
      "aprovado\n",
      "aprovado\n",
      "Os aprovados são: [7.0, 7.0]\n",
      "A quantidade de aprovados é: 2\n"
     ]
    }
   ],
   "source": [
    "#5\n",
    "aprovados = []\n",
    "contaprovados = 0\n",
    "for i in range(3):\n",
    "    nota1 = float(input())\n",
    "    nota2 = float(input())\n",
    "    nota3 = float(input())\n",
    "    nota4 = float(input())\n",
    "    media = (nota1 + nota2 + nota3 + nota4)/4\n",
    "    if 0 <= nota1 <= 10 and 0 <= nota2 <= 10 and 0 <= nota3 <= 10 and 0 <= nota4 <= 10:\n",
    "        if (nota1 and nota2 and nota3 and nota4) >= 7:\n",
    "            if media >= 7:\n",
    "                contaprovados += 1\n",
    "                aprovados.append(media)\n",
    "                print('aprovado')\n",
    "            else:\n",
    "                print('reprovado')\n",
    "    else:\n",
    "        print('nota inválida')\n",
    "print(f'Os aprovados são: {aprovados}')\n",
    "print(f'A quantidade de aprovados é: {contaprovados}')"
   ]
  },
  {
   "cell_type": "code",
   "execution_count": 1,
   "metadata": {},
   "outputs": [
    {
     "name": "stdout",
     "output_type": "stream",
     "text": [
      "Os números são: [2, 2, 2, 2, 2]\n",
      "A soma dos números é: 10\n",
      "A multiplicação dos números é: 32\n"
     ]
    }
   ],
   "source": [
    "#6\n",
    "numeros = []\n",
    "for i in range(5):\n",
    "    numero = int(input())\n",
    "    numeros.append(numero)\n",
    "    if i == 0:\n",
    "        mult = numero\n",
    "    else:\n",
    "        mult *= numero\n",
    "\n",
    "print(f'Os números são: {numeros}')\n",
    "print(f'A soma dos números é: {sum(numeros)}')\n",
    "print(f'A multiplicação dos números é: {mult}')"
   ]
  },
  {
   "cell_type": "code",
   "execution_count": 2,
   "metadata": {},
   "outputs": [
    {
     "name": "stdout",
     "output_type": "stream",
     "text": [
      "A maior altura é: 1.8 e a idade é: 23\n"
     ]
    }
   ],
   "source": [
    "#7\n",
    "idadelista = []\n",
    "alturalista = []\n",
    "for i in range(3):\n",
    "    idade = int(input())\n",
    "    altura = float(input())\n",
    "    if idade > 0 and altura > 0:\n",
    "        idadelista.append(idade)\n",
    "        alturalista.append(altura)\n",
    "        if i == 0:\n",
    "            maioraltura = altura\n",
    "            posicao = i\n",
    "        else:\n",
    "            if altura > maioraltura:\n",
    "                maioraltura = altura\n",
    "                posicao = i\n",
    "            if idade > idadelista[posicao]:\n",
    "                posicao = i\n",
    "    else:\n",
    "        print('Valor inválido')\n",
    "print(f'A maior altura é: {maioraltura} e a idade do indivíduo é: {idadelista[posicao]}')"
   ]
  },
  {
   "cell_type": "code",
   "execution_count": null,
   "metadata": {},
   "outputs": [],
   "source": [
    "#8"
   ]
  },
  {
   "cell_type": "code",
   "execution_count": 19,
   "metadata": {},
   "outputs": [
    {
     "name": "stdout",
     "output_type": "stream",
     "text": [
      "[1, 2, 3, 4, 5, 6, 7, 8, 9, 10, 11, 12, 13, 14, 15, 16, 17, 18, 19, 20]\n"
     ]
    }
   ],
   "source": [
    "#9\n",
    "lista1 = [1,3,5,7,9,11,13,15,17,19]\n",
    "lista2 = [2,4,6,8,10,12,14,16,18,20]\n",
    "lista3 = []\n",
    "for i in range(len(lista1)):\n",
    "    lista3.append(lista1[i])\n",
    "    lista3.append(lista2[i])\n",
    "print(lista3)"
   ]
  },
  {
   "cell_type": "code",
   "execution_count": 6,
   "metadata": {},
   "outputs": [
    {
     "name": "stdout",
     "output_type": "stream",
     "text": [
      "[1, 2, 3, 4, 5, 6, 7, 8, 9, 10, 11, 12, 13, 14, 15, 16, 17, 18, 19, 20, 21, 22, 23, 24, 25, 26, 27, 28, 29, 30]\n"
     ]
    }
   ],
   "source": [
    "#10\n",
    "#nao entendi muito\n",
    "lista1 = [1,4,7,10,13,16,19,22,25,28]\n",
    "lista2 = [2,5,8,11,14,17,20,23,26,29]\n",
    "lista3 = [3,6,9,12,15,18,21,24,27,30]\n",
    "lista4 = []\n",
    "for i in range(len(lista1)):\n",
    "    lista4.append(lista1[i])\n",
    "    lista4.append(lista2[i])\n",
    "    lista4.append(lista3[i])\n",
    "print(lista4)"
   ]
  },
  {
   "cell_type": "code",
   "execution_count": 7,
   "metadata": {},
   "outputs": [
    {
     "name": "stdout",
     "output_type": "stream",
     "text": [
      "A quantidade de alunos com mais de 13 anos e altura inferior a média é é: 1\n"
     ]
    }
   ],
   "source": [
    "#11\n",
    "idade = []\n",
    "altura = []\n",
    "maisde13 = []\n",
    "idadeinferioramedia = 0\n",
    "for i in range(5):\n",
    "    idadeescolhida = int(input())\n",
    "    alturaescolhida = float(input())\n",
    "    if alturaescolhida > 0 and idadeescolhida > 0:\n",
    "        idade.append(idadeescolhida)\n",
    "        altura.append(alturaescolhida)\n",
    "        if idadeescolhida > 13:\n",
    "            maisde13.append(alturaescolhida)\n",
    "    else:\n",
    "        print('Valor inválido')\n",
    "for idadelista in maisde13:\n",
    "    if idadelista < sum(altura)/len(altura):\n",
    "        idadeinferioramedia += 1\n",
    "print(f'A quantidade de alunos com mais de 13 anos e altura inferior a média é é: {idadeinferioramedia}')\n"
   ]
  },
  {
   "cell_type": "code",
   "execution_count": 9,
   "metadata": {},
   "outputs": [
    {
     "name": "stdout",
     "output_type": "stream",
     "text": [
      "Nome válido\n"
     ]
    }
   ],
   "source": [
    "#12\n",
    "nomesvalidos = []\n",
    "for i in range(2):\n",
    "    nomeescolhido = input()\n",
    "    nomesvalidos.append(nomeescolhido.upper())\n",
    "nomeescolhido = input()\n",
    "if nomeescolhido.upper() in nomesvalidos:\n",
    "    print('Nome válido')\n",
    "else:\n",
    "    print('Nome inválido')\n",
    "\n"
   ]
  },
  {
   "cell_type": "code",
   "execution_count": 13,
   "metadata": {},
   "outputs": [
    {
     "name": "stdout",
     "output_type": "stream",
     "text": [
      "A média anual é: 26.625000000000004\n",
      "Meses maiores que a média:\n",
      "1 -> Fevereiro\n",
      "2 -> Março\n",
      "3 -> Abril\n",
      "4 -> Maio\n",
      "10 -> Novembro\n",
      "11 -> Dezembro\n"
     ]
    }
   ],
   "source": [
    "#13\n",
    "meses = ['Janeiro','Fevereiro','Março','Abril','Maio','Junho','Julho','Agosto','Setembro', 'Outubro','Novembro','Dezembro']\n",
    "mesesmaioresqueamedia = []\n",
    "temperaturamediameses = []\n",
    "mediaanual = 0\n",
    "for i in range(12):\n",
    "    temperaturames = float(input())\n",
    "    temperaturamediameses.append(temperaturames)\n",
    "mediaanual = sum(temperaturamediameses)/len(temperaturamediameses)\n",
    "print(f'A média anual é: {mediaanual}')\n",
    "for i in range(len(meses)):\n",
    "    if temperaturamediameses[i] > mediaanual:\n",
    "        mesesmaioresqueamedia.append(meses[i])\n",
    "print('Meses maiores que a média:')\n",
    "for mes in mesesmaioresqueamedia:\n",
    "    print(f'{meses.index(mes)} -> {mes}')\n",
    " "
   ]
  },
  {
   "cell_type": "code",
   "execution_count": 15,
   "metadata": {},
   "outputs": [
    {
     "name": "stdout",
     "output_type": "stream",
     "text": [
      "A quantidade de valores lidos é: 5\n",
      "Valores informados: \n",
      "8.0\n",
      "7.0\n",
      "6.0\n",
      "9.0\n",
      "10.0\n",
      "Valores na ordem inversa: \n",
      "10.0\n",
      "9.0\n",
      "6.0\n",
      "7.0\n",
      "8.0\n",
      "A soma dos valores é: 40.0\n",
      "A média dos valores é: 8.0\n",
      "A quantidade de valores acima da média é: 2\n",
      "A quantidade de valores abaixo de sete é: 1\n"
     ]
    }
   ],
   "source": [
    "#14\n",
    "acima_da_media = 0\n",
    "abaixo_de_sete = 0\n",
    "\n",
    "notas = []\n",
    "loop = True\n",
    "\n",
    "while loop:\n",
    "    nota = float(input(\"Digite uma nota ou -1 para sair: \"))\n",
    "    if nota == -1:\n",
    "        loop = False\n",
    "    else:\n",
    "        notas.append(nota)\n",
    "\n",
    "print(f\"A quantidade de valores lidos é: {len(notas)}\")\n",
    "print(\"Valores informados: \")\n",
    "for nota in notas:\n",
    "    print(nota)\n",
    "print(\"Valores na ordem inversa: \")\n",
    "for nota in reversed(notas):\n",
    "    print(nota)\n",
    "print(f\"A soma dos valores é: {sum(notas)}\")\n",
    "media = sum(notas) / len(notas)\n",
    "print(f\"A média dos valores é: {media}\")\n",
    "for nota in notas:\n",
    "    if nota > media:\n",
    "        acima_da_media += 1\n",
    "    if nota < 7:\n",
    "        abaixo_de_sete += 1\n",
    "print(f\"A quantidade de valores acima da média é: {acima_da_media}\")\n",
    "print(f\"A quantidade de valores abaixo de sete é: {abaixo_de_sete}\")"
   ]
  },
  {
   "cell_type": "code",
   "execution_count": 1,
   "metadata": {},
   "outputs": [
    {
     "name": "stdout",
     "output_type": "stream",
     "text": [
      "resposta inválida\n",
      "resposta inválida\n",
      "resposta inválida\n",
      "Sistema Operacional     Votos   %\n",
      "-------------------     -----   ---\n",
      "Windows Server           6    13.6%\n",
      "Unix                     12    27.3%\n",
      "Linux                    9    20.5%\n",
      "Netware                  8    18.2%\n",
      "Mac OS                   9    20.5%\n",
      "Outro                    0    0.0%\n",
      "-------------------     -----\n",
      "Total                    44\n"
     ]
    }
   ],
   "source": [
    "#15\n",
    "respostas = []\n",
    "loop = True\n",
    "windowsserver = unix = linux = netware = macos = outro = 0\n",
    "\n",
    "while loop:\n",
    "    resposta = int(input('Digite o seu voto ou 0 para sair: '))\n",
    "    if resposta == 0:\n",
    "        loop = False\n",
    "    elif resposta > 6 or resposta < 0:\n",
    "        print('resposta inválida')\n",
    "    else:\n",
    "        respostas.append(resposta)\n",
    "for voto in respostas:\n",
    "    if voto == 1:\n",
    "        windowsserver += 1\n",
    "    elif voto == 2:\n",
    "        unix += 1\n",
    "    elif voto == 3:\n",
    "        linux += 1\n",
    "    elif voto == 4:\n",
    "        netware += 1\n",
    "    elif voto == 5:\n",
    "        macos += 1\n",
    "    elif voto == 6:\n",
    "        outro += 1\n",
    "print('Sistema Operacional     Votos   %')\n",
    "print('-------------------     -----   ---')\n",
    "print(f'Windows Server           {windowsserver}    {windowsserver/len(respostas)*100:.1f}%')\n",
    "print(f'Unix                     {unix}    {unix/len(respostas)*100:.1f}%')\n",
    "print(f'Linux                    {linux}    {linux/len(respostas)*100:.1f}%')\n",
    "print(f'Netware                  {netware}    {netware/len(respostas)*100:.1f}%')\n",
    "print(f'Mac OS                   {macos}    {macos/len(respostas)*100:.1f}%')\n",
    "print(f'Outro                    {outro}    {outro/len(respostas)*100:.1f}%')\n",
    "print(f'-------------------     -----')\n",
    "print(f'Total                    {len(respostas)}')\n",
    "#O Sistema Operacional mais votado foi o Unix, com 3500 votos, correspondendo a 40% dos votos.\n",
    "#Falta pegar o maior valor da lista e printar o nome do sistema operacional\n",
    "\n",
    "    "
   ]
  },
  {
   "cell_type": "code",
   "execution_count": 10,
   "metadata": {},
   "outputs": [
    {
     "name": "stdout",
     "output_type": "stream",
     "text": [
      "Segundo maior elemento : 12.0\n",
      "Lista original : [2.0, 3.0, 10.0, 12.0, 15.0]\n",
      "Lista copiada e ordenada : [2.0, 3.0, 10.0, 12.0, 15.0]\n"
     ]
    }
   ],
   "source": [
    "#16\n",
    "listaoriginal = []\n",
    "listacopia = []\n",
    "for i in range(5):\n",
    "    numero = float(input())\n",
    "    listaoriginal.append(numero)\n",
    "listacopia = sorted(listaoriginal)\n",
    "print(f'Segundo maior elemento : {listacopia[-2]}')\n",
    "print(f'Lista original : {listaoriginal}')\n",
    "print(f'Lista copiada e ordenada : {listacopia}')"
   ]
  },
  {
   "cell_type": "code",
   "execution_count": 74,
   "metadata": {},
   "outputs": [
    {
     "name": "stdout",
     "output_type": "stream",
     "text": [
      "[1, 1, 1, 1, 1, 1, 1, 1]\n"
     ]
    }
   ],
   "source": [
    "#17\n",
    "#Escreva um programa em Python para converter um número inteiro em binário de acordo com a representação de grandeza com sinal (sinal e magnitude). O programa deve receber um número inteiro e produzir como saída uma lista com os bits do número convertido (um bit para cada posição da lista). Além disso deve ser feita a verificação se o número pode ser representado, considere uma representação com 8 bits (um para o sinal e 7 para a magnitude).\n",
    "numero = int(input())\n",
    "lista1 = [0, 0, 0, 0, 0, 0, 0, 0]\n",
    "if 127>= numero >= -127:\n",
    "    if numero < 0:\n",
    "        magnitude = 1\n",
    "        numero *= -1\n",
    "    else:\n",
    "        magnitude = 0\n",
    "    numero1 = numero // 2\n",
    "    numero2 = numero1 // 2\n",
    "    numero3 = numero2 // 2\n",
    "    numero4 = numero3 // 2\n",
    "    numero5 = numero4 // 2\n",
    "    numero6 = numero5 // 2\n",
    "\n",
    "    lista1[0] = magnitude\n",
    "    lista1[1] = numero6\n",
    "    lista1[2] = numero5 % 2\n",
    "    lista1[3] = numero4 % 2\n",
    "    lista1[4] = numero3 % 2\n",
    "    lista1[5] = numero2 % 2\n",
    "    lista1[6] = numero1 % 2\n",
    "    lista1[7] = numero % 2\n",
    "    print(lista1)\n",
    "else:\n",
    "    print('Número inválido')\n"
   ]
  },
  {
   "cell_type": "code",
   "execution_count": 70,
   "metadata": {},
   "outputs": [
    {
     "name": "stdout",
     "output_type": "stream",
     "text": [
      "11\n",
      "12\n",
      "13\n",
      "14\n",
      "15\n",
      "16\n",
      "A quantidade de valores maiores que 10 é: 6\n"
     ]
    }
   ],
   "source": [
    "#18\n",
    "matriz4x4 = [\n",
    "            [1,2,3,4], \n",
    "            [5,6,7,8],\n",
    "            [9,10,11,12],\n",
    "            [13,14,15,16]\n",
    "            ]\n",
    "cont = 0\n",
    "for i in range(len(matriz4x4)):\n",
    "    for valor2 in matriz4x4[i]:\n",
    "        if valor2 > 10:\n",
    "            print(valor2)\n",
    "            cont +=1\n",
    "print(f'A quantidade de valores maiores que 10 é: {cont}')\n"
   ]
  },
  {
   "cell_type": "code",
   "execution_count": 83,
   "metadata": {},
   "outputs": [
    {
     "name": "stdout",
     "output_type": "stream",
     "text": [
      "[1, 0, 0, 0, 0]\n",
      "[0, 1, 0, 0, 0]\n",
      "[0, 0, 1, 0, 0]\n",
      "[0, 0, 0, 1, 0]\n",
      "[0, 0, 0, 0, 1]\n"
     ]
    }
   ],
   "source": [
    "#19\n",
    "matriz5x5 = [[], [], [], [], []]\n",
    "for x in range(5):\n",
    "    for y in range(5):\n",
    "        matriz5x5[x].append(0)\n",
    "    for j in range(5):\n",
    "        matriz5x5[x][x] = 1\n",
    "for i in range(5):\n",
    "    print(matriz5x5[i])\n"
   ]
  },
  {
   "cell_type": "code",
   "execution_count": 104,
   "metadata": {},
   "outputs": [
    {
     "name": "stdout",
     "output_type": "stream",
     "text": [
      "O elemento 10 está na linha 2 e na coluna 5\n"
     ]
    }
   ],
   "source": [
    "#20\n",
    "#i = linha\n",
    "#j = coluna\n",
    "matriz5x5 = [[1,2,3,4,5],\n",
    "             [6,7,8,9,10],\n",
    "             [11,12,13,14,15],\n",
    "             [16,17,18,19,20],\n",
    "             [21,22,23,24,25]]\n",
    "localizaçaoi = -1\n",
    "busca = int(input())\n",
    "for i in range(5):\n",
    "    for j in range(5):\n",
    "        if matriz5x5[i][j] == busca:\n",
    "            localizaçaoi = i+1\n",
    "            localizaçaoj = j+1\n",
    "if localizaçaoi != -1:\n",
    "    print(f'O elemento {busca} está na linha {localizaçaoi} e na coluna {localizaçaoj}')\n",
    "else:\n",
    "    print('Elemento não encontrado')"
   ]
  },
  {
   "cell_type": "code",
   "execution_count": 93,
   "metadata": {},
   "outputs": [
    {
     "name": "stdout",
     "output_type": "stream",
     "text": [
      "[1, 3, 3, 5]\n",
      "[5, 7, 7, 9]\n",
      "[9, 11, 11, 13]\n",
      "[13, 15, 15, 17]\n"
     ]
    }
   ],
   "source": [
    "#21\n",
    "matriz4x41 =[   [1,2,3,4],\n",
    "                [5,6,7,8],\n",
    "                [9,10,11,12],\n",
    "                [13,14,15,16]\n",
    "            ]\n",
    "matriz4x42 =[   [0,3,2,5],\n",
    "                [4,7,6,9],\n",
    "                [8,11,10,13],\n",
    "                [12,15,14,17]\n",
    "            ]\n",
    "matriz4x43 = [[],[],[],[]]\n",
    "for i in range(4):\n",
    "    for j in range(4):\n",
    "        if matriz4x41[i][j] > matriz4x42[i][j]:\n",
    "            matriz4x43[i].append(matriz4x41[i][j])\n",
    "        elif matriz4x42[i][j] >= matriz4x41[i][j]:\n",
    "            matriz4x43[i].append(matriz4x42[i][j])\n",
    "\n",
    "for i in range(4):\n",
    "    print(matriz4x43[i])\n"
   ]
  },
  {
   "cell_type": "code",
   "execution_count": 113,
   "metadata": {},
   "outputs": [
    {
     "name": "stdout",
     "output_type": "stream",
     "text": [
      "[2, 14, 21, 28, 35, 42, 49, 56, 63, 70]\n",
      "[28, 11, 23, 30, 37, 44, 51, 58, 65, 72]\n",
      "[104, 89, 26, 32, 39, 46, 53, 60, 67, 74]\n",
      "[252, 237, 212, 47, 41, 48, 55, 62, 69, 76]\n",
      "[496, 481, 456, 421, 74, 50, 57, 64, 71, 78]\n",
      "[860, 845, 820, 785, 740, 107, 59, 66, 73, 80]\n",
      "[1368, 1353, 1328, 1293, 1248, 1193, 146, 68, 75, 82]\n",
      "[2044, 2029, 2004, 1969, 1924, 1869, 1804, 191, 77, 84]\n",
      "[2912, 2897, 2872, 2837, 2792, 2737, 2672, 2597, 242, 86]\n",
      "[3996, 3981, 3956, 3921, 3876, 3821, 3756, 3681, 3596, 299]\n"
     ]
    }
   ],
   "source": [
    "#22\n",
    "matriz = [[],[],[],[],[],[],[],[],[],[]]\n",
    "for i in range(10):\n",
    "    for j in range(10):\n",
    "        if i < j:\n",
    "            matriz[i].append(2*(i+1) + 7*(j+1) - 2) \n",
    "        if i == j:\n",
    "            matriz[i].append(3*((i+1)**2) - 1)\n",
    "        if i > j:\n",
    "            matriz[i].append(4*((i+1)**3) - 5*((j+1)**2) + 1)\n",
    "    print(matriz[i])\n",
    "    "
   ]
  },
  {
   "cell_type": "code",
   "execution_count": 107,
   "metadata": {},
   "outputs": [
    {
     "name": "stdout",
     "output_type": "stream",
     "text": [
      "Os números acima da diagonal principal são: [2, 3, 6]\n",
      "A soma dos números acima da diagonal principal é: 11\n"
     ]
    }
   ],
   "source": [
    "#23\n",
    "matriz3x3 = [[1,2,3],\n",
    "             [4,5,6],\n",
    "             [7,8,9]]\n",
    "numerosacimadadiagonal = []\n",
    "for i in range(3):\n",
    "    for j in range(3):\n",
    "        if j > i:\n",
    "            numerosacimadadiagonal.append(matriz3x3[i][j])\n",
    "print(f'Os números acima da diagonal principal são: {numerosacimadadiagonal}')\n",
    "print(f'A soma dos números acima da diagonal principal é: {sum(numerosacimadadiagonal)}')\n",
    "\n"
   ]
  },
  {
   "cell_type": "code",
   "execution_count": 115,
   "metadata": {},
   "outputs": [
    {
     "name": "stdout",
     "output_type": "stream",
     "text": [
      "Os números acima da diagonal principal são: [1, 5, 9]\n",
      "A soma dos números acima da diagonal principal é: 15\n"
     ]
    }
   ],
   "source": [
    "#24\n",
    "matriz3x3 = [[1,2,3],\n",
    "             [4,5,6],\n",
    "             [7,8,9]]\n",
    "numerosdiagonal = []\n",
    "for i in range(3):\n",
    "    for j in range(3):\n",
    "        if j == i:\n",
    "            numerosdiagonal.append(matriz3x3[i][j])\n",
    "print(f'Os números acima da diagonal principal são: {numerosdiagonal}')\n",
    "print(f'A soma dos números acima da diagonal principal é: {sum(numerosdiagonal)}')\n"
   ]
  },
  {
   "cell_type": "code",
   "execution_count": 166,
   "metadata": {},
   "outputs": [
    {
     "name": "stdout",
     "output_type": "stream",
     "text": [
      "Os números acima da diagonal principal são: [3, 5, 7]\n",
      "A soma dos números acima da diagonal principal é: 15\n"
     ]
    }
   ],
   "source": [
    "#25\n",
    "matriz3x3 = [[1,2,3],\n",
    "             [4,5,6],\n",
    "             [7,8,9]]\n",
    "numerosdiagonalsec = []\n",
    "soma = 0\n",
    "for i in range(3):\n",
    "    for j in range(3):\n",
    "                if j+i == 2:\n",
    "                    numerosdiagonalsec.append(matriz3x3[i][j])\n",
    "print(f'Os números acima da diagonal principal são: {numerosdiagonalsec}')\n",
    "print(f'A soma dos números acima da diagonal principal é: {sum(numerosdiagonalsec)}')"
   ]
  },
  {
   "cell_type": "code",
   "execution_count": null,
   "metadata": {},
   "outputs": [],
   "source": [
    "#26\n",
    "matriz4x4 = [[1,2,3,4],\n",
    "             [5,6,7,8],\n",
    "             [9,10,11,12],\n",
    "             [13,14,15,16]]\n",
    "numerosacimadadiagonal = []\n",
    "for i in range(4):\n",
    "    for j in range(4):\n",
    "        if j > i:\n",
    "            matriz3x3[i][j] = 0\n",
    "print(matriz3x3)"
   ]
  }
 ],
 "metadata": {
  "kernelspec": {
   "display_name": "Python 3",
   "language": "python",
   "name": "python3"
  },
  "language_info": {
   "codemirror_mode": {
    "name": "ipython",
    "version": 3
   },
   "file_extension": ".py",
   "mimetype": "text/x-python",
   "name": "python",
   "nbconvert_exporter": "python",
   "pygments_lexer": "ipython3",
   "version": "3.11.2"
  },
  "orig_nbformat": 4
 },
 "nbformat": 4,
 "nbformat_minor": 2
}
