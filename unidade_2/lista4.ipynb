{
 "cells": [
  {
   "cell_type": "code",
   "execution_count": 4,
   "metadata": {},
   "outputs": [
    {
     "name": "stdout",
     "output_type": "stream",
     "text": [
      "[1, 2, 3, 4, 5]\n"
     ]
    }
   ],
   "source": [
    "#1\n",
    "lista = []\n",
    "for i in range(5):\n",
    "    item = int(input())\n",
    "    lista.append(item)\n",
    "print(lista)"
   ]
  },
  {
   "cell_type": "code",
   "execution_count": 5,
   "metadata": {},
   "outputs": [
    {
     "name": "stdout",
     "output_type": "stream",
     "text": [
      "[10.0, 9.0, 8.0, 7.0, 6.0, 5.0, 4.0, 3.0, 2.0, 1.0]\n"
     ]
    }
   ],
   "source": [
    "#2\n",
    "lista = []\n",
    "for i in range(10):\n",
    "    item = float(input())\n",
    "    lista.append(item)\n",
    "lista.reverse()\n",
    "print(lista)"
   ]
  },
  {
   "cell_type": "code",
   "execution_count": 10,
   "metadata": {},
   "outputs": [
    {
     "name": "stdout",
     "output_type": "stream",
     "text": [
      "A média é: 9.0\n",
      "As notas são: [10.0, 8.0, 10.0, 8.0]\n"
     ]
    }
   ],
   "source": [
    "#3\n",
    "notas = []\n",
    "for i in range(4):\n",
    "    nota = float(input())\n",
    "    notas.append(nota)\n",
    "media = sum(notas)/len(notas)\n",
    "print(f'A média é: {media}')\n",
    "print(f'As notas são: {notas}')\n",
    "#for nota in notas:\n",
    "#   print(nota)"
   ]
  },
  {
   "cell_type": "code",
   "execution_count": 2,
   "metadata": {},
   "outputs": [
    {
     "name": "stdout",
     "output_type": "stream",
     "text": [
      "Os números são: [2, 3, 5]\n",
      "Os pares são: [2]\n",
      "Os ímpares são: [3, 5]\n"
     ]
    }
   ],
   "source": [
    "#4\n",
    "numeros = []\n",
    "par = []\n",
    "impar = []\n",
    "for i in range(3):\n",
    "    numero = int(input())\n",
    "    numeros.append(numero)\n",
    "    if numero % 2 == 0:\n",
    "        par.append(numero)\n",
    "    else:\n",
    "        impar.append(numero)\n",
    "print(f'Os números são: {numeros}')\n",
    "print(f'Os pares são: {par}')\n",
    "print(f'Os ímpares são: {impar}')\n"
   ]
  },
  {
   "cell_type": "code",
   "execution_count": 11,
   "metadata": {},
   "outputs": [
    {
     "name": "stdout",
     "output_type": "stream",
     "text": [
      "nota inválida\n",
      "reprovado\n",
      "aprovado\n",
      "Os aprovados são: [20.0]\n",
      "A quantidade de aprovados é: 1\n"
     ]
    }
   ],
   "source": [
    "#5\n",
    "aprovados = []\n",
    "contaprovados = 0\n",
    "for i in range(3):\n",
    "    nota1 = float(input())\n",
    "    nota2 = float(input())\n",
    "    nota3 = float(input())\n",
    "    nota4 = float(input())\n",
    "    media = (nota1 + nota2 + nota3 + nota4)/4\n",
    "    if 0 <= nota1 <= 10 and 0 <= nota2 <= 10 and 0 <= nota3 <= 10 and 0 <= nota4 <= 10:\n",
    "        if (nota1 and nota2 and nota3 and nota4) >= 7:\n",
    "            contaprovados += 1\n",
    "            aprovados.append(media)\n",
    "            print('aprovado')\n",
    "        else:\n",
    "            print('reprovado')\n",
    "    else:\n",
    "        print('nota inválida')\n",
    "print(f'Os aprovados são: {aprovados}')\n",
    "print(f'A quantidade de aprovados é: {contaprovados}')"
   ]
  },
  {
   "cell_type": "code",
   "execution_count": 15,
   "metadata": {},
   "outputs": [
    {
     "name": "stdout",
     "output_type": "stream",
     "text": [
      "Os números são: [2, 2, 3, 2, 2]\n",
      "A soma dos números é: 11\n",
      "A multiplicação dos números é: 48\n"
     ]
    }
   ],
   "source": [
    "#6\n",
    "numeros = []\n",
    "for i in range(5):\n",
    "    numero = int(input())\n",
    "    numeros.append(numero)\n",
    "    if i == 0:\n",
    "        mult = numero\n",
    "    else:\n",
    "        mult = mult * numero\n",
    "\n",
    "print(f'Os números são: {numeros}')\n",
    "print(f'A soma dos números é: {sum(numeros)}')\n",
    "print(f'A multiplicação dos números é: {mult}')"
   ]
  },
  {
   "cell_type": "code",
   "execution_count": 18,
   "metadata": {},
   "outputs": [
    {
     "name": "stdout",
     "output_type": "stream",
     "text": [
      "A maior altura é: 1.0 e a idade é: 1\n"
     ]
    }
   ],
   "source": [
    "#7\n",
    "idadelista = []\n",
    "alturalista = []\n",
    "for i in range(3):\n",
    "    idade = int(input())\n",
    "    altura = float(input())\n",
    "    if idade > 0 and altura > 0:\n",
    "        idadelista.append(idade)\n",
    "        alturalista.append(altura)\n",
    "        if i == 0:\n",
    "            maioraltura = altura\n",
    "            posicao = i\n",
    "        else:\n",
    "            if altura > maioraltura:\n",
    "                maioraltura = altura\n",
    "                posicao = i\n",
    "            if altura == maioraltura:\n",
    "                #O mais velho vai prevalecer se tiverem a mesma altura\n",
    "                if idade > idadelista[posicao]:\n",
    "                    posicao = i\n",
    "    else:\n",
    "        print('Valor inválido')\n",
    "print(f'A maior altura é: {maioraltura} e a idade é: {idadelista[posicao]}')"
   ]
  },
  {
   "cell_type": "code",
   "execution_count": null,
   "metadata": {},
   "outputs": [],
   "source": [
    "#8"
   ]
  },
  {
   "cell_type": "code",
   "execution_count": 19,
   "metadata": {},
   "outputs": [
    {
     "name": "stdout",
     "output_type": "stream",
     "text": [
      "[1, 2, 3, 4, 5, 6, 7, 8, 9, 10, 11, 12, 13, 14, 15, 16, 17, 18, 19, 20]\n"
     ]
    }
   ],
   "source": [
    "#9\n",
    "lista1 = [1,3,5,7,9,11,13,15,17,19]\n",
    "lista2 = [2,4,6,8,10,12,14,16,18,20]\n",
    "lista3 = []\n",
    "for i in range(len(lista1)):\n",
    "    lista3.append(lista1[i])\n",
    "    lista3.append(lista2[i])\n",
    "print(lista3)"
   ]
  },
  {
   "cell_type": "code",
   "execution_count": 20,
   "metadata": {},
   "outputs": [
    {
     "name": "stdout",
     "output_type": "stream",
     "text": [
      "[1, '‘', 2, '‘', 3, '‘', 4, '‘', 5, '‘', 6, '‘', 7, '‘', 8, '‘', 9, '‘', 10, '‘', 11, '‘', 12, '‘', 13, '‘', 14, '‘', 15, '‘', 16, '‘', 17, '‘', 18, '‘', 19, '‘', 20, '‘']\n"
     ]
    }
   ],
   "source": [
    "#10\n",
    "#nao entendi muito\n",
    "lista1 = [1,3,5,7,9,11,13,15,17,19]\n",
    "lista2 = [2,4,6,8,10,12,14,16,18,20]\n",
    "lista3 = []\n",
    "for i in range(len(lista1)):\n",
    "    lista3.append(lista1[i])\n",
    "    lista3.append('‘')\n",
    "    lista3.append(lista2[i])\n",
    "    lista3.append('‘')\n",
    "print(lista3)"
   ]
  }
 ],
 "metadata": {
  "kernelspec": {
   "display_name": "Python 3",
   "language": "python",
   "name": "python3"
  },
  "language_info": {
   "codemirror_mode": {
    "name": "ipython",
    "version": 3
   },
   "file_extension": ".py",
   "mimetype": "text/x-python",
   "name": "python",
   "nbconvert_exporter": "python",
   "pygments_lexer": "ipython3",
   "version": "3.11.2"
  },
  "orig_nbformat": 4
 },
 "nbformat": 4,
 "nbformat_minor": 2
}
